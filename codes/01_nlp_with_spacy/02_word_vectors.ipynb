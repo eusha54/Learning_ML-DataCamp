{
 "cells": [
  {
   "cell_type": "code",
   "execution_count": 1,
   "id": "e85d18ee",
   "metadata": {},
   "outputs": [
    {
     "name": "stdout",
     "output_type": "stream",
     "text": [
      "{'width': 300, 'vectors': 20000, 'keys': 684830, 'name': 'en_vectors', 'mode': 'default'}\n"
     ]
    }
   ],
   "source": [
    "import spacy\n",
    "\n",
    "# Load medium spaCy model (has word vectors)\n",
    "nlp = spacy.load(\"en_core_web_md\")\n",
    "    # python -m spacy download en_core_web_md\n",
    "    # one time\n",
    "\n",
    "# Check Model Metadata\n",
    "print(nlp.meta[\"vectors\"])\n",
    "    # {'width': 300, 'vectors': 20000, 'keys': 684830, 'name': 'en_vectors', 'mode': 'default'}"
   ]
  },
  {
   "cell_type": "code",
   "execution_count": 8,
   "id": "d46c2331",
   "metadata": {},
   "outputs": [
    {
     "data": {
      "text/plain": [
       "300"
      ]
     },
     "execution_count": 8,
     "metadata": {},
     "output_type": "execute_result"
    }
   ],
   "source": [
    "import spacy\n",
    "nlp = spacy.load(\"en_core_web_md\")\n",
    "\n",
    "word = \"cat\"\n",
    "\n",
    "# getting word id in the vocabulary of spacy model\n",
    "word_id = nlp.vocab.strings[word]\n",
    "    # 5439657043933447811\n",
    "\n",
    "# getting word vector using word id from the model\n",
    "word_vector = nlp.vocab.vectors[word_id]\n",
    "    #     array([-0.72483  ,  0.42538  ,  ...  0.28165  ], dtype=float32)\n",
    "\n",
    "len(word_vector)\n",
    "    # 300\n",
    "    # that is 300 parameters to measure a word\n",
    "    # as well 300 characteristics defined for a word (columns)\n"
   ]
  },
  {
   "cell_type": "code",
   "execution_count": 72,
   "id": "c00c3b28",
   "metadata": {},
   "outputs": [
    {
     "data": {
      "image/png": "[encoded data removed]",
      "text/plain": [
       "<Figure size 640x480 with 1 Axes>"
      ]
     },
     "metadata": {},
     "output_type": "display_data"
    }
   ],
   "source": [
    "# Word Vector Visualization\n",
    "\n",
    "import spacy\n",
    "import numpy as np\n",
    "import matplotlib.pyplot as plt\n",
    "from sklearn.decomposition import PCA\n",
    "\n",
    "spacy.load(\"en_core_web_md\")\n",
    "\n",
    "# words to visualize\n",
    "words = [\"wonderful\", \"horrible\", \"apple\", \"orange\", \"black\", \"dog\", \"cat\"]\n",
    "word_vectors = []\n",
    "\n",
    "for word in words:\n",
    "    word_id = nlp.vocab.strings[word]\n",
    "    word_vector = nlp.vocab.vectors[word_id]\n",
    "    word_vectors.append(word_vector)\n",
    "\n",
    "word_vectors\n",
    "\"\"\"\n",
    "[\n",
    "    array([-0.76677 ,  0.52154 ,  0.51221 ,  0.17084 ,  0.022783,  ...], dtype=float32),\n",
    "        ... ,\n",
    "    array([-0.72483 ,  0.42538 ,  0.025489, -0.39807 ,  0.037463,  ...], dtype=float32)\n",
    "]\n",
    "\"\"\"\n",
    "\n",
    "\n",
    "# Stack vectors for PCA\n",
    "stacked_arr = np.vstack(word_vectors)\n",
    "    # converts the vector of vectors to a 2d array\n",
    "\"\"\"\n",
    " array([[-0.76677  ,  0.52154  ,  0.51221  ,  0.17084  ,  0.022783 ],\n",
    "        [-0.71302  ,  0.090462 ,  0.36503  , -0.14336  ,  0.0035745],\n",
    "        [-0.6334   ,  0.18981  , -0.53544  , -0.52658  , -0.30001  ],\n",
    "        [-0.63358  ,  0.12266  ,  0.47232  , -0.22974  , -0.26307  ],\n",
    "        [-0.62299  , -0.31332  , -0.014659 ,  0.14449  , -0.143    ],\n",
    "        [-0.72483  ,  0.42538  ,  0.025489 , -0.39807  ,  0.037463 ],\n",
    "        [-0.72483  ,  0.42538  ,  0.025489 , -0.39807  ,  0.037463 ]],\n",
    "        dtype=float32)\n",
    "\"\"\"\n",
    "\n",
    "# Applying PCA to reduce to 2 dimension\n",
    "pca = PCA(n_components=2)\n",
    "arr_2d = pca.fit_transform(stacked_arr)\n",
    "\n",
    "arr_2d\n",
    "\"\"\"\n",
    " array([[ 0.5590943 ,  0.19645803],\n",
    "        [ 0.2405029 , -0.07239293],\n",
    "        [-0.75937706, -0.01141524],\n",
    "        [ 0.24359024, -0.06513336],\n",
    "        [ 0.00264516, -0.630934  ],\n",
    "        [-0.1432277 ,  0.29170877],\n",
    "        [-0.1432277 ,  0.29170877]], dtype=float32)\n",
    "\"\"\"\n",
    "\n",
    "# Visualize\n",
    "\n",
    "x = arr_2d[:,0]\n",
    "y = arr_2d[:,1]\n",
    "\n",
    "for i, word in enumerate(words):\n",
    "    plt.text(x[i], y[i], word)\n",
    "\n",
    "plt.scatter(x,y)\n",
    "plt.show()\n",
    "\n"
   ]
  },
  {
   "cell_type": "code",
   "execution_count": null,
   "id": "d0e5a84d",
   "metadata": {},
   "outputs": [
    {
     "data": {
      "image/png": "[encoded data removed]",
      "text/plain": [
       "<Figure size 640x480 with 1 Axes>"
      ]
     },
     "metadata": {},
     "output_type": "display_data"
    }
   ],
   "source": [
    "\n"
   ]
  },
  {
   "cell_type": "code",
   "execution_count": null,
   "id": "2d906a8f",
   "metadata": {},
   "outputs": [
    {
     "data": {
      "text/plain": [
       "np.float32(1.1509395)"
      ]
     },
     "execution_count": 54,
     "metadata": {},
     "output_type": "execute_result"
    }
   ],
   "source": []
  },
  {
   "cell_type": "code",
   "execution_count": null,
   "id": "d6219f9c",
   "metadata": {},
   "outputs": [
    {
     "name": "stdout",
     "output_type": "stream",
     "text": [
      "pooch\n",
      "CHINCHILLA\n",
      "CORGI\n",
      "adopt\n",
      "cattery\n"
     ]
    }
   ],
   "source": [
    "\n",
    "# Find Similar Words\n",
    "import spacy\n",
    "nlp = spacy.load(\"en_core_web_md\")\n",
    "\n",
    "target_word = \"cat\"\n",
    "target_id = nlp.vocab.strings[target_word]\n",
    "target_vector = nlp.vocab.vectors[target_id]\n",
    "\n",
    "similar_words = nlp.vocab.vectors.most_similar(target_vector.reshape(1,300), n=5) \n",
    "similar_words\n",
    "    # target vector reshapping is required\n",
    "    # default shape (300,)\n",
    "    # convert it into 2d as (1,300)\n",
    "    # n = 5 returns 5 similar words\n",
    "\n",
    "    # output contains tuple of 3 vectors\n",
    "        # 1st vector are the word ids\n",
    "        # 2nd vector are the vector ids\n",
    "        # 3rd vector is the value of cosine similarity\n",
    "\"\"\"\n",
    "    (array([[12208289099836549209, 17719488375152474849,  8875935456354591630, 13481877704469139785, 18059933654817027899]], \n",
    "        dtype=uint64), \n",
    "    array([[16706, 16704, 16705, 10160, 10159]], \n",
    "        dtype=int32), \n",
    "    array([[1.    , 1.    , 1.    , 0.7471, 0.7471]], \n",
    "        dtype=float32))\n",
    "\"\"\"\n",
    "\n",
    "for word_id in similar_words[0][0]:\n",
    "    word = nlp.vocab.strings[word_id]\n",
    "    print(word)\n",
    "\"\"\"\n",
    "    pooch\n",
    "    CHINCHILLA\n",
    "    CORGI\n",
    "    adopt\n",
    "    cattery\n",
    "\"\"\"\n"
   ]
  },
  {
   "cell_type": "code",
   "execution_count": null,
   "id": "87acf5a6",
   "metadata": {},
   "outputs": [
    {
     "name": "stdout",
     "output_type": "stream",
     "text": [
      "pooch\n",
      "CHINCHILLA\n",
      "CORGI\n",
      "adopt\n",
      "cattery\n"
     ]
    }
   ],
   "source": [
    "\n",
    "\n"
   ]
  },
  {
   "cell_type": "code",
   "execution_count": 105,
   "id": "8f7f6e1e",
   "metadata": {},
   "outputs": [
    {
     "name": "stdout",
     "output_type": "stream",
     "text": [
      "Help on method most_similar in module spacy.vectors:\n",
      "\n",
      "most_similar(queries, *, batch_size=1024, n=1, sort=True) method of spacy.vectors.Vectors instance\n",
      "    Vectors.most_similar(self, queries, *, batch_size=1024, n=1, sort=True)\n",
      "    For each of the given vectors, find the n most similar entries\n",
      "    to it, by cosine.\n",
      "    \n",
      "    Queries are by vector. Results are returned as a `(keys, best_rows,\n",
      "    scores)` tuple. If `queries` is large, the calculations are performed in\n",
      "    chunks, to avoid consuming too much memory. You can set the `batch_size`\n",
      "    to control the size/space trade-off during the calculations.\n",
      "    \n",
      "    queries (ndarray): An array with one or more vectors.\n",
      "    batch_size (int): The batch size to use.\n",
      "    n (int): The number of entries to return for each query.\n",
      "    sort (bool): Whether to sort the n entries returned by score.\n",
      "    RETURNS (tuple): The most similar entries as a `(keys, best_rows, scores)`\n",
      "        tuple.\n",
      "\n"
     ]
    }
   ],
   "source": [
    "help(nlp.vocab.vectors.most_similar)"
   ]
  },
  {
   "cell_type": "code",
   "execution_count": null,
   "id": "091b50e2",
   "metadata": {},
   "outputs": [],
   "source": [
    "type(target_vector)\n",
    "target_vector.shape\n",
    "type(np.asarray(target_vector))\n",
    "np.asarray(target_vector).shape"
   ]
  },
  {
   "cell_type": "markdown",
   "id": "7389f5ab",
   "metadata": {},
   "source": [
    "## Symantic Similarity"
   ]
  },
  {
   "cell_type": "code",
   "execution_count": null,
   "id": "74bffdc2",
   "metadata": {},
   "outputs": [
    {
     "name": "stdout",
     "output_type": "stream",
     "text": [
      "0.326357901096344\n",
      "0.40321826934814453\n",
      "0.611201286315918\n"
     ]
    }
   ],
   "source": [
    "import spacy\n",
    "nlp = spacy.load(\"en_core_web_md\")\n",
    "\n",
    "# texts\n",
    "text1 = \"We eat Pizza\"\n",
    "text2 = \"We like to eat Pasta\"\n",
    "\n",
    "# docs\n",
    "doc1 = nlp(text1)\n",
    "doc2 = nlp(text2)\n",
    "\n",
    "\n",
    "\n",
    "# Tokens Similarity check\n",
    "pizza_token = doc1[2]   # Pizza\n",
    "pasta_token = doc2[4]   # Pasta\n",
    "\n",
    "token_similarity = pizza_token.similarity(pasta_token)\n",
    "token_similarity                    # note similarity uses cosine similarity (using dot product)\n",
    "    # 1.0   \n",
    "    # that's highly likely\n",
    "\n",
    "\n",
    "\n",
    "# Span Similarity Check\n",
    "span1 = doc1[1:]    # eat Pizza\n",
    "span2 = doc2[1:]    # like to eat Pasta\n",
    "span3 = doc2[3:]    # eat Pasta\n",
    "\n",
    "span_similarity_12 = span1.similarity(span2)\n",
    "    # 0.8831702470779419 \n",
    "    # that is likely equivalent\n",
    "span_similarity_13 = span1.similarity(span3)\n",
    "    # 1.0\n",
    "    # that is even more likely\n",
    "span_similarity_23 = span2.similarity(span3)\n",
    "    # 0.8831702470779419\n",
    "    # that is likely equivalent\n",
    "\n",
    "\n",
    "\n",
    "# Doc similarity\n",
    "doc_similarity = doc1.similarity(doc2)\n",
    "doc_similarity\n",
    "    # 0.9268936514854431\n",
    "    # highly likely\n",
    "\n",
    "\n",
    "\n",
    "# Sentence Similarity for keyword Relevance\n",
    "keyword = \"cancel\"\n",
    "questions = [\n",
    "    \"What is the cheapest flight from Boston to Seattle?\",\n",
    "    \"How do I change my booking?\",\n",
    "    \"What are your refund policies?\"\n",
    "]\n",
    "\n",
    "# converting to nlp doc object\n",
    "keyword = nlp(keyword)\n",
    "questions = [nlp(question) for question in questions]\n",
    "\n",
    "for ques in questions:\n",
    "    ques_similarity = ques.similarity(keyword)\n",
    "    print(ques_similarity)\n",
    "\n",
    "\"\"\"\n",
    "    0.326357901096344               1st ques is less likely to cancelling flight\n",
    "    0.40321826934814453             2nd ques is about changing flight\n",
    "    0.611201286315918               3rd ques is about refund, that's most likely to key \n",
    "\"\"\"\n",
    "\n"
   ]
  }
 ],
 "metadata": {
  "kernelspec": {
   "display_name": "Python 3",
   "language": "python",
   "name": "python3"
  },
  "language_info": {
   "codemirror_mode": {
    "name": "ipython",
    "version": 3
   },
   "file_extension": ".py",
   "mimetype": "text/x-python",
   "name": "python",
   "nbconvert_exporter": "python",
   "pygments_lexer": "ipython3",
   "version": "3.10.11"
  }
 },
 "nbformat": 4,
 "nbformat_minor": 5
}
