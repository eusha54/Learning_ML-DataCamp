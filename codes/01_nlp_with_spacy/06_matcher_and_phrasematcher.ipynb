{
 "cells": [
  {
   "cell_type": "code",
   "execution_count": null,
   "id": "0e16ba92",
   "metadata": {},
   "outputs": [
    {
     "data": {
      "text/plain": [
       "<spacy.matcher.matcher.Matcher at 0x1bdda54fbe0>"
      ]
     },
     "execution_count": 1,
     "metadata": {},
     "output_type": "execute_result"
    }
   ],
   "source": [
    "import spacy\n",
    "from spacy.matcher import Matcher, PhraseMatcher\n",
    "\n",
    "nlp = spacy.load(\"en_core_web_sm\")\n",
    "text = \"Good morning! I hope you have a good evening. Bill Gates and John Smith are here.\"\n",
    "doc = nlp(text)\n",
    "\n",
    "# Matcher in spaCy\n",
    "matcher = Matcher(nlp.vocab)   \n",
    "    # creating the matcher object\n",
    "\n",
    "# Defining pattern\n",
    "morning_pattern = [{\"LOWER\": \"good\"}, {\"LOWER\": \"morning\"}]\n",
    "\n",
    "# Adding pattern to the matcher object\n",
    "matcher.add(\"MORNING_GREETING\", [morning_pattern])\n",
    "\n",
    "# Matching text\n",
    "matches = matcher(doc)\n",
    "    # returns list of tuples of the form\n",
    "    # (match_id, start, end)\n",
    "\n",
    "# Printing matches \n",
    "for match_id, start, end in matches:\n",
    "    span = doc[start:end]\n",
    "        # span is a slice of doc, has attributes like doc\n",
    "    print(span.text)\n",
    "        # so span.text is required \n",
    "\n"
   ]
  },
  {
   "cell_type": "markdown",
   "id": "a8b96084",
   "metadata": {},
   "source": [
    "## Extended Matcher\n"
   ]
  },
  {
   "cell_type": "code",
   "execution_count": null,
   "id": "1c991577",
   "metadata": {},
   "outputs": [
    {
     "name": "stdout",
     "output_type": "stream",
     "text": [
      "Good morning\n",
      "good evening\n"
     ]
    }
   ],
   "source": [
    "matcher_extended = Matcher(nlp.vocab)\n",
    "\n",
    "# defining pattern\n",
    "greeeting_pattern = [\n",
    "    {\"LOWER\": \"good\"},\n",
    "    {\"LOWER\": {\"IN\": [\"morning\", \"evening\"]}}\n",
    "        # here we are using IN \n",
    "]\n",
    "matcher_extended.add(\"GREETINGS\", [greeeting_pattern])\n",
    "extended_matches = matcher_extended(doc)\n",
    "\n",
    "for match_id, start, end in extended_matches:\n",
    "    span = doc[start:end]\n",
    "    print(span.text)\n"
   ]
  },
  {
   "cell_type": "markdown",
   "id": "ce1aa03d",
   "metadata": {},
   "source": [
    "## Phrase Matcher"
   ]
  },
  {
   "cell_type": "code",
   "execution_count": 21,
   "id": "d6037659",
   "metadata": {},
   "outputs": [
    {
     "name": "stdout",
     "output_type": "stream",
     "text": [
      "Bill Gates\n",
      "John Smith\n"
     ]
    }
   ],
   "source": [
    "import spacy\n",
    "from spacy.matcher import PhraseMatcher\n",
    "\n",
    "nlp = spacy.load(\"en_core_web_sm\")\n",
    "\n",
    "# Defining PhraseMatcher Object\n",
    "phrase_matcher = PhraseMatcher(nlp.vocab)\n",
    "\n",
    "# Define Phrases to Match\n",
    "people_list = [\"Bill Gates\", \"John Smith\", \"Steve Jobs\"]\n",
    "patterns = [nlp.make_doc(person) for person in people_list]\n",
    "    # make_doc does the tokenization job only\n",
    "    # nlp() runs the full pipeline\n",
    "    # so make_doc increases efficiency\n",
    "\n",
    "# Add patterns to PhraseMatcher\n",
    "phrase_matcher.add(\"PEOPLE\", patterns)\n",
    "\n",
    "# Matching text\n",
    "phrase_matches = phrase_matcher(doc)\n",
    "\n",
    "# printing matches\n",
    "for match_id, start, end in phrase_matches:\n",
    "    span = doc[start:end]\n",
    "    print(span.text)"
   ]
  },
  {
   "cell_type": "code",
   "execution_count": 23,
   "id": "8a30f159",
   "metadata": {},
   "outputs": [
    {
     "name": "stdout",
     "output_type": "stream",
     "text": [
      "bill gates\n",
      "JOHN SMITH\n"
     ]
    }
   ],
   "source": [
    "# PhraseMatcher with LOWER attribute\n",
    "phrase_matcher_extended = PhraseMatcher(nlp.vocab, attr=\"LOWER\")\n",
    "\n",
    "# Creating patterns for lowercase matching\n",
    "lower_patterns = [nlp.make_doc(person.lower()) for person in people_list]\n",
    "\n",
    "# Add patterns\n",
    "phrase_matcher_extended.add(\"PEOPLE_LOWER\", lower_patterns)\n",
    "\n",
    "# Test with mixed text\n",
    "mixed_text = \"I met bill gates and JOHN SMITH yesterday.\"\n",
    "doc = nlp(mixed_text)\n",
    "matches = phrase_matcher_extended(doc)\n",
    "\n",
    "# printing matches\n",
    "for match_id, start, end in matches:\n",
    "    span = doc[start:end]\n",
    "    print(span.text)\n"
   ]
  },
  {
   "cell_type": "code",
   "execution_count": null,
   "id": "7a26f12a",
   "metadata": {},
   "outputs": [
    {
     "name": "stdout",
     "output_type": "stream",
     "text": [
      "172.160.0.1\n",
      "192.168.1.1\n"
     ]
    }
   ],
   "source": [
    "# Phrase matching with Shape\n",
    "import spacy\n",
    "from spacy.matcher import PhraseMatcher\n",
    "\n",
    "nlp = spacy.load(\"en_core_web_sm\")\n",
    "\n",
    "# Defining Phrase Matcher Object\n",
    "phrase_matcher_shape = PhraseMatcher(nlp.vocab, attr = \"SHAPE\")\n",
    "\n",
    "# Examples to understand patterns\n",
    "ip_examples = [\"192.168.1.1\", \"10.0.0.1\"]\n",
    "ip_patterns = [nlp.make_doc(ip) for ip in ip_examples]\n",
    "\n",
    "# Adding patterns\n",
    "phrase_matcher_shape.add(\"IP_ADDRESS\", ip_patterns)\n",
    "\n",
    "# Testing matcher object\n",
    "text = \"Server IPs are 172.160.0.1 and 203.45.67.89 and 192.168.1.1\"\n",
    "doc = nlp(text)\n",
    "matches = phrase_matcher_shape(doc)\n",
    "\n",
    "# printing matches\n",
    "for match_id, start, end in matches:\n",
    "    span = doc[start:end]\n",
    "    print(span.text)\n",
    "\"\"\"\n",
    "    172.160.0.1\n",
    "    192.168.1.1\n",
    "\"\"\"\n"
   ]
  },
  {
   "cell_type": "code",
   "execution_count": null,
   "id": "412ddf32",
   "metadata": {},
   "outputs": [],
   "source": []
  }
 ],
 "metadata": {
  "kernelspec": {
   "display_name": "Python 3",
   "language": "python",
   "name": "python3"
  },
  "language_info": {
   "codemirror_mode": {
    "name": "ipython",
    "version": 3
   },
   "file_extension": ".py",
   "mimetype": "text/x-python",
   "name": "python",
   "nbconvert_exporter": "python",
   "pygments_lexer": "ipython3",
   "version": "3.10.11"
  }
 },
 "nbformat": 4,
 "nbformat_minor": 5
}
