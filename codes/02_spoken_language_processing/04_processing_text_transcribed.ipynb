{
 "cells": [
  {
   "cell_type": "code",
   "execution_count": null,
   "id": "f4e5bc7c",
   "metadata": {},
   "outputs": [],
   "source": [
    "# Offline Speech Recognition with pretrained model\n",
    "import whisper\n",
    "\n",
    "model = whisper.load_model(\"small\")\n",
    "result = model.transcribe(\"multiple-speakers.wav\")\n",
    "result[\"text\"]\n",
    "\"\"\"\n",
    "One of the limitations of the speech recognition library is that it doesn't recognize different speakers and voices. It would just return it all as one block of text.\n",
    "\"\"\""
   ]
  },
  {
   "cell_type": "code",
   "execution_count": null,
   "id": "5b1103f5",
   "metadata": {},
   "outputs": [
    {
     "data": {
      "text/plain": [
       "\" One of the limitations of the speech recognition library is that it doesn't recognize different speakers and voices. It would just return it all as one block of text.\""
      ]
     },
     "execution_count": 22,
     "metadata": {},
     "output_type": "execute_result"
    }
   ],
   "source": []
  }
 ],
 "metadata": {
  "kernelspec": {
   "display_name": "Python 3",
   "language": "python",
   "name": "python3"
  },
  "language_info": {
   "codemirror_mode": {
    "name": "ipython",
    "version": 3
   },
   "file_extension": ".py",
   "mimetype": "text/x-python",
   "name": "python",
   "nbconvert_exporter": "python",
   "pygments_lexer": "ipython3",
   "version": "3.10.11"
  }
 },
 "nbformat": 4,
 "nbformat_minor": 5
}
