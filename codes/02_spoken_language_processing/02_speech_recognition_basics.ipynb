{
 "cells": [
  {
   "cell_type": "code",
   "execution_count": null,
   "id": "0c29dfcd",
   "metadata": {},
   "outputs": [
    {
     "data": {
      "text/plain": [
       "'good morning'"
      ]
     },
     "execution_count": 3,
     "metadata": {},
     "output_type": "execute_result"
    }
   ],
   "source": [
    "import speech_recognition as sr\n",
    "\n",
    "# initialize recognizer\n",
    "recognizer = sr.Recognizer()\n",
    "\n",
    "# set energy threshold\n",
    "recognizer.energy_threshold = 300\n",
    "\n",
    "# load audio file\n",
    "with sr.AudioFile(\"good-morning.wav\") as source:\n",
    "    # record the audio\n",
    "    audio_data = recognizer.record(source)\n",
    "\n",
    "# transcribe speech using Google web API\n",
    "text = recognizer.recognize_google(audio_data = audio_data, language = \"en-US\")\n",
    "text\n",
    "    # 'good morning'"
   ]
  },
  {
   "cell_type": "markdown",
   "id": "31862648",
   "metadata": {},
   "source": [
    "### Duration and Offset"
   ]
  },
  {
   "cell_type": "code",
   "execution_count": null,
   "id": "c929fcb9",
   "metadata": {},
   "outputs": [
    {
     "name": "stdout",
     "output_type": "stream",
     "text": [
      "hello I like to get some help with my device please I think it's a set of warranty I wanted\n",
      "this ODI fall has 30 seconds of nothing at the end of it\n"
     ]
    }
   ],
   "source": [
    "import speech_recognition as sr\n",
    "\n",
    "recognizer = sr.Recognizer()\n",
    "recognizer.energy_threshold = 300\n",
    "\n",
    "static_audio = sr.AudioFile(\"5s-static-out-of-warranty.wav\")\n",
    "    # static first 3s, offset is useful\n",
    "nothing_audio = sr.AudioFile(\"30s-of-nothing.wav\")\n",
    "    # last 30s is blank of 35s total, duration is useful\n",
    "\n",
    "with static_audio as source:\n",
    "    clean_static_audio = recognizer.record(source, offset=3)\n",
    "        # this audio starts 3 sec delay, so we set offset to 3s\n",
    "\n",
    "with nothing_audio as source:\n",
    "    clean_nothing_audio = recognizer.record(source, duration=5)\n",
    "    # this audio of 35s has voice only first 5s, so set duration 5\n",
    "\n",
    "text1 = recognizer.recognize_google(clean_static_audio)\n",
    "text2 = recognizer.recognize_google(clean_nothing_audio)\n",
    "\n",
    "print(text1)\n",
    "print(text2)\n"
   ]
  },
  {
   "cell_type": "markdown",
   "id": "7dadc7cc",
   "metadata": {},
   "source": [
    "## Dealing with different types of Data"
   ]
  },
  {
   "cell_type": "code",
   "execution_count": null,
   "id": "78c207e9",
   "metadata": {},
   "outputs": [
    {
     "name": "stdout",
     "output_type": "stream",
     "text": [
      "おはようございます\n"
     ]
    }
   ],
   "source": [
    "# Different Language\n",
    "\n",
    "import speech_recognition as sr\n",
    "recognizer = sr.Recognizer()\n",
    "recognizer.energy_threshold = 300\n",
    "\n",
    "japannese_gm = sr.AudioFile(\"good-morning-japanense.wav\")\n",
    "\n",
    "with japannese_gm as source:\n",
    "    japannese_gm_audio = recognizer.record(source)\n",
    "\n",
    "text = recognizer.recognize_google(japannese_gm_audio, language = 'ja')\n",
    "    # おはようございます\n",
    "# text = recognizer.recognize_google(japannese_gm_audio, language = 'en-US')\n",
    "    # this sould return \"Ohio gozaimasu\" according to datacamp\n",
    "    # don't know why not working here"
   ]
  },
  {
   "cell_type": "code",
   "execution_count": 14,
   "id": "b9d9daf6",
   "metadata": {},
   "outputs": [],
   "source": [
    "# Animal Sound\n",
    "\n",
    "leopard_roaring = sr.AudioFile(\"leopard.wav\")\n",
    "with leopard_roaring as source:\n",
    "    leopard_sound = recognizer.record(source)\n",
    "\n",
    "# text = recognizer.recognize_google(leopard_sound)\n",
    "# text\n",
    "    # should return blank according to datacamp\n"
   ]
  },
  {
   "cell_type": "code",
   "execution_count": null,
   "id": "e21ee1ed",
   "metadata": {},
   "outputs": [
    {
     "data": {
      "text/plain": [
       "{'alternative': [{'transcript': 'Chali baby'},\n",
       "  {'transcript': 'choli baby'},\n",
       "  {'transcript': 'Jolly baby'},\n",
       "  {'transcript': 'Charlie baby'},\n",
       "  {'transcript': 'choli mein'}],\n",
       " 'final': True}"
      ]
     },
     "execution_count": 17,
     "metadata": {},
     "output_type": "execute_result"
    }
   ],
   "source": [
    "# Baby Sound \n",
    "charlie = sr.AudioFile(\"charlie-bit-me.wav\")\n",
    "with charlie as source:\n",
    "    charlie_sound = recognizer.record(source)\n",
    "\n",
    "text = recognizer.recognize_google(charlie_sound, show_all = True)\n",
    "text                            # show_all returns possible texts from the audio\n",
    "\"\"\"\n",
    "    {'alternative': [{'transcript': 'Chali baby'},\n",
    "      {'transcript': 'choli baby'},\n",
    "      {'transcript': 'Jolly baby'},\n",
    "      {'transcript': 'Charlie baby'},\n",
    "      {'transcript': 'choli mein'}],\n",
    "     'final': True}\n",
    "\"\"\""
   ]
  },
  {
   "cell_type": "code",
   "execution_count": null,
   "id": "10e610ca",
   "metadata": {},
   "outputs": [
    {
     "data": {
      "text/plain": [
       "\"what are the limitations of the speech recognition library is that it doesn't recognise different speakers and voices you are just return it always one block a text\""
      ]
     },
     "execution_count": 21,
     "metadata": {},
     "output_type": "execute_result"
    }
   ],
   "source": [
    "# Multiple Speakers\n",
    "multi_speaker = sr.AudioFile(\"multiple-speakers.wav\")\n",
    "with multi_speaker as source:\n",
    "    multi_sound = recognizer.record(source)\n",
    "\n",
    "text = recognizer.recognize_google(multi_sound)\n",
    "text\n",
    "    # \"what are the limitations of the speech recognition library is that it doesn't recognise different speakers and voices you are just return it always one block a text\"\n",
    "    # doesn't recognize different speakers"
   ]
  },
  {
   "cell_type": "code",
   "execution_count": null,
   "id": "71114d90",
   "metadata": {},
   "outputs": [
    {
     "ename": "UnknownValueError",
     "evalue": "",
     "output_type": "error",
     "traceback": [
      "\u001b[1;31m---------------------------------------------------------------------------\u001b[0m",
      "\u001b[1;31mUnknownValueError\u001b[0m                         Traceback (most recent call last)",
      "Cell \u001b[1;32mIn[32], line 11\u001b[0m\n\u001b[0;32m      7\u001b[0m         \u001b[38;5;66;03m# adjusting the recognizer to ignore ambient noise\u001b[39;00m\n\u001b[0;32m      8\u001b[0m         \u001b[38;5;66;03m# basically training the recognizer to recognize noise and ignore it \u001b[39;00m\n\u001b[0;32m      9\u001b[0m     noisy_support_audio \u001b[38;5;241m=\u001b[39m recognizer\u001b[38;5;241m.\u001b[39mrecord(source)\n\u001b[1;32m---> 11\u001b[0m text \u001b[38;5;241m=\u001b[39m \u001b[43mrecognizer\u001b[49m\u001b[38;5;241;43m.\u001b[39;49m\u001b[43mrecognize_google\u001b[49m\u001b[43m(\u001b[49m\u001b[43mnoisy_support_audio\u001b[49m\u001b[43m)\u001b[49m\n\u001b[0;32m     12\u001b[0m text\n\u001b[0;32m     13\u001b[0m     \u001b[38;5;66;03m# should return the text\u001b[39;00m\n",
      "File \u001b[1;32mc:\\Users\\yafas\\AppData\\Local\\Programs\\Python\\Python310\\lib\\site-packages\\speech_recognition\\recognizers\\google.py:262\u001b[0m, in \u001b[0;36mrecognize_legacy\u001b[1;34m(recognizer, audio_data, key, language, pfilter, show_all, with_confidence, endpoint)\u001b[0m\n\u001b[0;32m    255\u001b[0m response_text \u001b[38;5;241m=\u001b[39m obtain_transcription(\n\u001b[0;32m    256\u001b[0m     request, timeout\u001b[38;5;241m=\u001b[39mrecognizer\u001b[38;5;241m.\u001b[39moperation_timeout\n\u001b[0;32m    257\u001b[0m )\n\u001b[0;32m    259\u001b[0m output_parser \u001b[38;5;241m=\u001b[39m OutputParser(\n\u001b[0;32m    260\u001b[0m     show_all\u001b[38;5;241m=\u001b[39mshow_all, with_confidence\u001b[38;5;241m=\u001b[39mwith_confidence\n\u001b[0;32m    261\u001b[0m )\n\u001b[1;32m--> 262\u001b[0m \u001b[38;5;28;01mreturn\u001b[39;00m \u001b[43moutput_parser\u001b[49m\u001b[38;5;241;43m.\u001b[39;49m\u001b[43mparse\u001b[49m\u001b[43m(\u001b[49m\u001b[43mresponse_text\u001b[49m\u001b[43m)\u001b[49m\n",
      "File \u001b[1;32mc:\\Users\\yafas\\AppData\\Local\\Programs\\Python\\Python310\\lib\\site-packages\\speech_recognition\\recognizers\\google.py:134\u001b[0m, in \u001b[0;36mOutputParser.parse\u001b[1;34m(self, response_text)\u001b[0m\n\u001b[0;32m    133\u001b[0m \u001b[38;5;28;01mdef\u001b[39;00m\u001b[38;5;250m \u001b[39m\u001b[38;5;21mparse\u001b[39m(\u001b[38;5;28mself\u001b[39m, response_text: \u001b[38;5;28mstr\u001b[39m):\n\u001b[1;32m--> 134\u001b[0m     actual_result \u001b[38;5;241m=\u001b[39m \u001b[38;5;28;43mself\u001b[39;49m\u001b[38;5;241;43m.\u001b[39;49m\u001b[43mconvert_to_result\u001b[49m\u001b[43m(\u001b[49m\u001b[43mresponse_text\u001b[49m\u001b[43m)\u001b[49m\n\u001b[0;32m    135\u001b[0m     \u001b[38;5;28;01mif\u001b[39;00m \u001b[38;5;28mself\u001b[39m\u001b[38;5;241m.\u001b[39mshow_all:\n\u001b[0;32m    136\u001b[0m         \u001b[38;5;28;01mreturn\u001b[39;00m actual_result\n",
      "File \u001b[1;32mc:\\Users\\yafas\\AppData\\Local\\Programs\\Python\\Python310\\lib\\site-packages\\speech_recognition\\recognizers\\google.py:183\u001b[0m, in \u001b[0;36mOutputParser.convert_to_result\u001b[1;34m(response_text)\u001b[0m\n\u001b[0;32m    181\u001b[0m             \u001b[38;5;28;01mraise\u001b[39;00m UnknownValueError()\n\u001b[0;32m    182\u001b[0m         \u001b[38;5;28;01mreturn\u001b[39;00m result[\u001b[38;5;241m0\u001b[39m]\n\u001b[1;32m--> 183\u001b[0m \u001b[38;5;28;01mraise\u001b[39;00m UnknownValueError()\n",
      "\u001b[1;31mUnknownValueError\u001b[0m: "
     ]
    }
   ],
   "source": [
    "# Noisy Environment\n",
    "noisy_support_call = sr.AudioFile(\"noisy-support-call.wav\")\n",
    "\n",
    "with noisy_support_call as source:\n",
    "    recognizer.adjust_for_ambient_noise(source, duration=0.5)\n",
    "        # adjusting the recognizer to ignore ambient noise\n",
    "        # basically training the recognizer to recognize noise and ignore it \n",
    "    noisy_support_audio = recognizer.record(source)\n",
    "\n",
    "text = recognizer.recognize_google(noisy_support_audio)\n",
    "text\n",
    "    # should return the text"
   ]
  }
 ],
 "metadata": {
  "kernelspec": {
   "display_name": "Python 3",
   "language": "python",
   "name": "python3"
  },
  "language_info": {
   "codemirror_mode": {
    "name": "ipython",
    "version": 3
   },
   "file_extension": ".py",
   "mimetype": "text/x-python",
   "name": "python",
   "nbconvert_exporter": "python",
   "pygments_lexer": "ipython3",
   "version": "3.10.11"
  }
 },
 "nbformat": 4,
 "nbformat_minor": 5
}
