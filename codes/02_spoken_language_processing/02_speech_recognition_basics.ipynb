{
 "cells": [
  {
   "cell_type": "code",
   "execution_count": null,
   "id": "0c29dfcd",
   "metadata": {},
   "outputs": [
    {
     "data": {
      "text/plain": [
       "'good morning'"
      ]
     },
     "execution_count": 3,
     "metadata": {},
     "output_type": "execute_result"
    }
   ],
   "source": [
    "import speech_recognition as sr\n",
    "\n",
    "# initialize recognizer\n",
    "recognizer = sr.Recognizer()\n",
    "\n",
    "# set energy threshold\n",
    "recognizer.energy_threshold = 300\n",
    "\n",
    "# load audio file\n",
    "with sr.AudioFile(\"good-morning.wav\") as source:\n",
    "    # record the audio\n",
    "    audio_data = recognizer.record(source)\n",
    "\n",
    "# transcribe speech using Google web API\n",
    "text = recognizer.recognize_google(audio_data = audio_data, language = \"en-US\")\n",
    "text\n",
    "    # 'good morning'"
   ]
  },
  {
   "cell_type": "markdown",
   "id": "31862648",
   "metadata": {},
   "source": [
    "### Duration and Offset"
   ]
  },
  {
   "cell_type": "code",
   "execution_count": null,
   "id": "c929fcb9",
   "metadata": {},
   "outputs": [
    {
     "name": "stdout",
     "output_type": "stream",
     "text": [
      "hello I like to get some help with my device please I think it's a set of warranty I wanted\n",
      "this ODI fall has 30 seconds of nothing at the end of it\n"
     ]
    }
   ],
   "source": [
    "import speech_recognition as sr\n",
    "\n",
    "recognizer = sr.Recognizer()\n",
    "recognizer.energy_threshold = 300\n",
    "\n",
    "static_audio = sr.AudioFile(\"5s-static-out-of-warranty.wav\")\n",
    "    # static first 3s, offset is useful\n",
    "nothing_audio = sr.AudioFile(\"30s-of-nothing.wav\")\n",
    "    # last 30s is blank of 35s total, duration is useful\n",
    "\n",
    "with static_audio as source:\n",
    "    clean_static_audio = recognizer.record(source, offset=3)\n",
    "        # this audio starts 3 sec delay, so we set offset to 3s\n",
    "\n",
    "with nothing_audio as source:\n",
    "    clean_nothing_audio = recognizer.record(source, duration=5)\n",
    "    # this audio of 35s has voice only first 5s, so set duration 5\n",
    "\n",
    "text1 = recognizer.recognize_google(clean_static_audio)\n",
    "text2 = recognizer.recognize_google(clean_nothing_audio)\n",
    "\n",
    "print(text1)\n",
    "print(text2)\n"
   ]
  }
 ],
 "metadata": {
  "kernelspec": {
   "display_name": "Python 3",
   "language": "python",
   "name": "python3"
  },
  "language_info": {
   "codemirror_mode": {
    "name": "ipython",
    "version": 3
   },
   "file_extension": ".py",
   "mimetype": "text/x-python",
   "name": "python",
   "nbconvert_exporter": "python",
   "pygments_lexer": "ipython3",
   "version": "3.10.11"
  }
 },
 "nbformat": 4,
 "nbformat_minor": 5
}
