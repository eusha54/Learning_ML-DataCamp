{
 "cells": [
  {
   "cell_type": "markdown",
   "id": "c4c354e0",
   "metadata": {},
   "source": [
    "# Basics\n"
   ]
  },
  {
   "cell_type": "code",
   "execution_count": 8,
   "id": "5dbc14d2",
   "metadata": {},
   "outputs": [],
   "source": [
    "# reading and playing audio files\n",
    "from pydub import AudioSegment\n",
    "from pydub.playback import play\n",
    "    # requrired pyaudio for internal purpose\n",
    "\n",
    "# create an AudioSegment instance\n",
    "wav_file = AudioSegment.from_file(file = \"wav_file.wav\")\n",
    "\n",
    "type(wav_file)\n",
    "    # pydub.audio_segment.AudioSegment\n",
    "\n",
    "play(wav_file)\n",
    "\n"
   ]
  },
  {
   "cell_type": "code",
   "execution_count": null,
   "id": "6280868b",
   "metadata": {},
   "outputs": [
    {
     "data": {
      "text/plain": [
       "8484"
      ]
     },
     "execution_count": 17,
     "metadata": {},
     "output_type": "execute_result"
    }
   ],
   "source": [
    "# Audio Parameters\n",
    "wav_file = AudioSegment.from_file(file = \"wav_file.wav\")\n",
    "wav_file.frame_rate\n",
    "wav_file.channels\n",
    "wav_file.sample_width\n",
    "wav_file.max\n",
    "len(wav_file)"
   ]
  },
  {
   "cell_type": "code",
   "execution_count": 20,
   "id": "4095f529",
   "metadata": {},
   "outputs": [
    {
     "name": "stdout",
     "output_type": "stream",
     "text": [
      "16000\n",
      "1\n",
      "1\n",
      "32\n",
      "3284\n"
     ]
    }
   ],
   "source": [
    "# Modifying audio parameters\n",
    "wav_file = AudioSegment.from_file(\"wav_file.wav\")\n",
    "moded_wav_file = wav_file.set_sample_width(1).set_frame_rate(16000).set_channels(1)\n",
    "print(moded_wav_file.frame_rate)\n",
    "print(moded_wav_file.channels)\n",
    "print(moded_wav_file.sample_width)\n",
    "print(moded_wav_file.max)\n",
    "print(len(moded_wav_file))\n",
    "play(moded_wav_file)\n",
    "play(wav_file)"
   ]
  },
  {
   "cell_type": "markdown",
   "id": "cd308e87",
   "metadata": {},
   "source": [
    "# Manipulating Audio Files with PyDub"
   ]
  },
  {
   "cell_type": "code",
   "execution_count": 7,
   "id": "2d9552be",
   "metadata": {},
   "outputs": [],
   "source": [
    "# Volume adjustment\n",
    "\n",
    "from pydub import AudioSegment\n",
    "\n",
    "volume_adjusted = AudioSegment.from_file(\"volume_adjusted.wav\")\n",
    "low_volume = volume_adjusted - 10\n",
    "high_volume = volume_adjusted + 10\n",
    "\n",
    "play(volume_adjusted)\n",
    "play(low_volume)\n",
    "play(high_volume)\n"
   ]
  },
  {
   "cell_type": "code",
   "execution_count": 13,
   "id": "21c5550b",
   "metadata": {},
   "outputs": [],
   "source": [
    "# Audio Normalization\n",
    "\n",
    "from pydub import AudioSegment\n",
    "from pydub.playback import play\n",
    "from pydub.effects import normalize\n",
    "\n",
    "# Import target audio file\n",
    "loud_then_quiet = AudioSegment.from_file(\"loud_then_quiet.wav\")\n",
    "\n",
    "# Normalized\n",
    "normalized_loud_then_quiet = normalize(loud_then_quiet)\n",
    "\n",
    "play(loud_then_quiet)\n",
    "play(normalized_loud_then_quiet)"
   ]
  },
  {
   "cell_type": "code",
   "execution_count": 27,
   "id": "947063cc",
   "metadata": {},
   "outputs": [],
   "source": [
    "# slicing and combining\n",
    "\n",
    "from pydub import AudioSegment\n",
    "\n",
    "# Import part 1 and part 2 audio files\n",
    "part_1 = AudioSegment.from_file(\"part_1.wav\")\n",
    "part_2 = AudioSegment.from_file(\"part_2.wav\")\n",
    "\n",
    "# Remove the first four seconds of part 1\n",
    "part_1_removed = part_1[4000:]\n",
    "\n",
    "# Add the remainder of part 1 and part 2 together\n",
    "part_3 = part_1_removed + part_2\n"
   ]
  },
  {
   "cell_type": "code",
   "execution_count": 33,
   "id": "db8bb68a",
   "metadata": {},
   "outputs": [],
   "source": [
    "# Splitting Channels\n",
    "\n",
    "stereo_phone_call = AudioSegment.from_file(\"stereo_call.wav\")\n",
    "channels = stereo_phone_call.split_to_mono()\n",
    "\n",
    "phone_call_channel_0 = channels[0]\n",
    "phone_call_channel_1 = channels[1]\n",
    "\n",
    "play(phone_call_channel_0)\n",
    "play(phone_call_channel_1)"
   ]
  },
  {
   "cell_type": "code",
   "execution_count": 39,
   "id": "4eb9111f",
   "metadata": {},
   "outputs": [
    {
     "data": {
      "text/plain": [
       "<_io.BufferedRandom name='mp3_file.wav'>"
      ]
     },
     "execution_count": 39,
     "metadata": {},
     "output_type": "execute_result"
    }
   ],
   "source": [
    "# change file format (requires ffmpeg)\n",
    "mp3_file = AudioSegment.from_file(\"mp3_file.mp3\")\n",
    "\n",
    "mp3_file.export(out_f=\"mp3_file.wav\", format = \"wav\")\n"
   ]
  }
 ],
 "metadata": {
  "kernelspec": {
   "display_name": "Python 3",
   "language": "python",
   "name": "python3"
  },
  "language_info": {
   "codemirror_mode": {
    "name": "ipython",
    "version": 3
   },
   "file_extension": ".py",
   "mimetype": "text/x-python",
   "name": "python",
   "nbconvert_exporter": "python",
   "pygments_lexer": "ipython3",
   "version": "3.10.11"
  }
 },
 "nbformat": 4,
 "nbformat_minor": 5
}
