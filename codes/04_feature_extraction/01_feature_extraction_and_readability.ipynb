{
 "cells": [
  {
   "cell_type": "code",
   "execution_count": 2,
   "id": "7de3fcbf",
   "metadata": {},
   "outputs": [
    {
     "data": {
      "text/html": [
       "<div>\n",
       "<style scoped>\n",
       "    .dataframe tbody tr th:only-of-type {\n",
       "        vertical-align: middle;\n",
       "    }\n",
       "\n",
       "    .dataframe tbody tr th {\n",
       "        vertical-align: top;\n",
       "    }\n",
       "\n",
       "    .dataframe thead th {\n",
       "        text-align: right;\n",
       "    }\n",
       "</style>\n",
       "<table border=\"1\" class=\"dataframe\">\n",
       "  <thead>\n",
       "    <tr style=\"text-align: right;\">\n",
       "      <th></th>\n",
       "      <th>text</th>\n",
       "      <th>sentiment_label</th>\n",
       "    </tr>\n",
       "  </thead>\n",
       "  <tbody>\n",
       "    <tr>\n",
       "      <th>0</th>\n",
       "      <td>how's it going Arthur I just placed an order w...</td>\n",
       "      <td>negative</td>\n",
       "    </tr>\n",
       "    <tr>\n",
       "      <th>1</th>\n",
       "      <td>yeah hello I'm just wondering if I can speak t...</td>\n",
       "      <td>neutral</td>\n",
       "    </tr>\n",
       "    <tr>\n",
       "      <th>2</th>\n",
       "      <td>hey I receive my order but it's the wrong size...</td>\n",
       "      <td>negative</td>\n",
       "    </tr>\n",
       "    <tr>\n",
       "      <th>3</th>\n",
       "      <td>hi David I just placed an order online and I w...</td>\n",
       "      <td>neutral</td>\n",
       "    </tr>\n",
       "    <tr>\n",
       "      <th>4</th>\n",
       "      <td>hey I bought something from your website the o...</td>\n",
       "      <td>negative</td>\n",
       "    </tr>\n",
       "  </tbody>\n",
       "</table>\n",
       "</div>"
      ],
      "text/plain": [
       "                                                text sentiment_label\n",
       "0  how's it going Arthur I just placed an order w...        negative\n",
       "1  yeah hello I'm just wondering if I can speak t...         neutral\n",
       "2  hey I receive my order but it's the wrong size...        negative\n",
       "3  hi David I just placed an order online and I w...         neutral\n",
       "4  hey I bought something from your website the o...        negative"
      ]
     },
     "execution_count": 2,
     "metadata": {},
     "output_type": "execute_result"
    }
   ],
   "source": [
    "import pandas as pd\n",
    "\n",
    "df = pd.read_csv(\"customer_call_transcriptions.csv\")\n",
    "df.head()"
   ]
  },
  {
   "cell_type": "code",
   "execution_count": 5,
   "id": "674b5639",
   "metadata": {},
   "outputs": [
    {
     "data": {
      "text/plain": [
       "0    4.071429\n",
       "1    4.411765\n",
       "2    3.562500\n",
       "3    3.846154\n",
       "4    3.794118\n",
       "Name: avg_word_length, dtype: float64"
      ]
     },
     "execution_count": 5,
     "metadata": {},
     "output_type": "execute_result"
    }
   ],
   "source": [
    "# Function that returns average word length\n",
    "\n",
    "def avg_word_length(x):\n",
    "    words = x.split()\n",
    "    word_lengths = [len(word) for word in words]\n",
    "    avg_word_length = sum(word_lengths)/len(words)\n",
    "    return(avg_word_length)\n",
    "\n",
    "# Create a new feature avg_word_length\n",
    "df['avg_word_length'] = df['text'].apply(avg_word_length)\n",
    "df[\"avg_word_length\"].head()\n",
    "\"\"\"\n",
    "0    4.071429\n",
    "1    4.411765\n",
    "2    3.562500\n",
    "3    3.846154\n",
    "4    3.794118\n",
    "Name: avg_word_length, dtype: float64\n",
    "\"\"\"\n"
   ]
  },
  {
   "cell_type": "code",
   "execution_count": 6,
   "id": "d2c3d306",
   "metadata": {},
   "outputs": [
    {
     "data": {
      "text/plain": [
       "2"
      ]
     },
     "execution_count": 6,
     "metadata": {},
     "output_type": "execute_result"
    }
   ],
   "source": [
    "# Function that returns number of hashtags\n",
    "\n",
    "def hashtag_count(string):\n",
    "    words = string.split()\n",
    "    hashtags = [word for word in words if word.startswith('#')]\n",
    "    return len(hashtags)\n",
    "        # Return number of hashtags\n",
    "\n",
    "hashtag_count(\"@janedoe This is my first tweet! #FirstTweet #Happy\")\n",
    "    # Output: 2"
   ]
  },
  {
   "cell_type": "code",
   "execution_count": null,
   "id": "80ee2436",
   "metadata": {},
   "outputs": [],
   "source": [
    "# one hot encoding\n",
    "\n",
    "import pandas as pd\n",
    "    # Perform one-hot encoding on the 'sex' feature of df\n",
    "df = pd.get_dummies(df, columns=['sex'])"
   ]
  },
  {
   "cell_type": "code",
   "execution_count": null,
   "id": "89b1e726",
   "metadata": {},
   "outputs": [
    {
     "data": {
      "text/plain": [
       "0    4.071429\n",
       "1    4.411765\n",
       "2    3.562500\n",
       "3    3.846154\n",
       "4    3.794118\n",
       "Name: avg_word_length, dtype: float64"
      ]
     },
     "metadata": {},
     "output_type": "display_data"
    }
   ],
   "source": [
    "# Function that returns average word length\n",
    "\n",
    "def avg_word_length(x):\n",
    "    words = x.split()\n",
    "    word_lengths = [len(word) for word in words]\n",
    "    avg_word_length = sum(word_lengths)/len(words)\n",
    "    return(avg_word_length)\n",
    "\n",
    "# Create a new feature avg_word_length\n",
    "df['avg_word_length'] = df['text'].apply(avg_word_length)\n",
    "df[\"avg_word_length\"].head()\n",
    "\"\"\"\n",
    "0    4.071429\n",
    "1    4.411765\n",
    "2    3.562500\n",
    "3    3.846154\n",
    "4    3.794118\n",
    "Name: avg_word_length, dtype: float64\n",
    "\"\"\"\n"
   ]
  },
  {
   "cell_type": "code",
   "execution_count": null,
   "id": "c1788d99",
   "metadata": {},
   "outputs": [],
   "source": [
    "# readability test \n",
    "\n",
    "from readability import getmeasures\n",
    "\n",
    "text = \"This is a simple test sentence. It should be easy to read.\"\n",
    "readability_measures = getmeasures(text)\n",
    "\n",
    "# get keys of the readability dictionary(or object?)\n",
    "readability_measures.keys()\n",
    "    # odict_keys(['readability grades', 'sentence info', 'word usage', 'sentence beginnings'])\n",
    "    # dict of dicts\n",
    "\n",
    "\n",
    "# different methods of rating sentence\n",
    "readability_measures['readability grades']\n",
    "    # dict of different measures\n",
    "\"\"\"\n",
    "OrderedDict([('Kincaid', 1.8733333333333313),\n",
    "             ('ARI', 3.0174999999999983),\n",
    "             ('Coleman-Liau', 4.763005750000001),\n",
    "             ('FleschReadingEase', 103.00500000000002),\n",
    "             ('GunningFogIndex', 8.133333333333333),\n",
    "             ('LIX', 20.333333333333336),\n",
    "             ('SMOGIndex', 8.477225575051662),\n",
    "             ('RIX', 1.0),\n",
    "             ('DaleChallIndex', 3.226866666666666)])\n",
    "\"\"\"\n",
    "\n",
    "\n",
    "# more useful keys\n",
    "readability_measures['sentence info']\n",
    "\"\"\"\n",
    "OrderedDict([('characters_per_word', 3.9166666666666665),\n",
    "             ('syll_per_word', 1.0833333333333333),\n",
    "             ('words_per_sentence', 12.0),\n",
    "             ('sentences_per_paragraph', 1.0),\n",
    "             ('type_token_ratio', 1.0),\n",
    "             ('directspeech_ratio', 0.0),\n",
    "             ('characters', 47),\n",
    "             ('syllables', 13),\n",
    "             ('words', 12),\n",
    "             ('wordtypes', 12),\n",
    "             ('sentences', 1),\n",
    "             ('paragraphs', 1),\n",
    "             ('long_words', 1),\n",
    "             ('complex_words', 1),\n",
    "             ('complex_words_dc', 2)])\n",
    "\"\"\"\n",
    "\n",
    "readability_measures['word usage']\n",
    "\"\"\"\n",
    "OrderedDict([('tobeverb', 2),\n",
    "             ('auxverb', 1),\n",
    "             ('conjunction', 0),\n",
    "             ('pronoun', 2),\n",
    "             ('preposition', 1),\n",
    "             ('nominalization', 1)])\n",
    "\"\"\"\n",
    "\n",
    "readability_measures['sentence beginnings']\n",
    "\"\"\"\n",
    "OrderedDict([('pronoun', 1),\n",
    "             ('interrogative', 0),\n",
    "             ('article', 0),\n",
    "             ('subordination', 0),\n",
    "             ('conjunction', 0),\n",
    "             ('preposition', 0)])\n",
    "\"\"\""
   ]
  }
 ],
 "metadata": {
  "kernelspec": {
   "display_name": "Python 3",
   "language": "python",
   "name": "python3"
  },
  "language_info": {
   "codemirror_mode": {
    "name": "ipython",
    "version": 3
   },
   "file_extension": ".py",
   "mimetype": "text/x-python",
   "name": "python",
   "nbconvert_exporter": "python",
   "pygments_lexer": "ipython3",
   "version": "3.10.11"
  }
 },
 "nbformat": 4,
 "nbformat_minor": 5
}
