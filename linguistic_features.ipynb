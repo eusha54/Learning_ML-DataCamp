{
 "cells": [
  {
   "cell_type": "code",
   "execution_count": null,
   "id": "5c180b5e",
   "metadata": {},
   "outputs": [
    {
     "name": "stdout",
     "output_type": "stream",
     "text": [
      "Text 1 POS: [('I', 'PRON', 'pronoun'), ('watch', 'VERB', 'verb'), ('TV', 'NOUN', 'noun')]\n",
      "Text 2 POS: [('My', 'PRON', 'pronoun'), ('watch', 'NOUN', 'noun'), ('lost', 'VERB', 'verb')]\n"
     ]
    }
   ],
   "source": [
    "import spacy\n",
    "from spacy import displacy\n",
    "\n",
    "# Load spaCy model\n",
    "nlp = spacy.load(\"en_core_web_sm\")\n",
    "    # loading the smallest english model from spacy\n",
    "    # requires run the following in bash\n",
    "    # python -m spacy download en_core_web_sm\n",
    "\n",
    "\n",
    "# POS Tagging example\n",
    "text1 = \"I watch TV\"\n",
    "text2 = \"My watch lost\"\n",
    "\n",
    "doc1 = nlp(text1)\n",
    "doc2 = nlp(text2)\n",
    "\n",
    "# Extract POS tags with explanations\n",
    "pos_info1 = [(token.text, token.pos_, spacy.explain(token.pos_)) for token in doc1]\n",
    "pos_info2 = [(token.text, token.pos_, spacy.explain(token.pos_)) for token in doc2]\n",
    "    # Text 1 POS: [('I', 'PRON', 'pronoun'), ('watch', 'VERB', 'verb'), ('TV', 'NOUN', 'noun')]\n",
    "    # Text 2 POS: [('My', 'PRON', 'pronoun'), ('watch', 'NOUN', 'noun'), ('lost', 'VERB', 'verb')]\n",
    "\n",
    "# Shows \"watch\" as VERB in first sentence, NOUN in second"
   ]
  },
  {
   "cell_type": "code",
   "execution_count": null,
   "id": "be8d8412",
   "metadata": {},
   "outputs": [
    {
     "name": "stdout",
     "output_type": "stream",
     "text": [
      "Albert Einstein\n",
      "PERSON\n",
      "People, including fictional\n",
      "Germany\n",
      "GPE\n",
      "Countries, cities, states\n",
      "Albert - PERSON\n",
      "Einstein - PERSON\n",
      "was - \n",
      "a - \n",
      "gem - \n",
      "of - \n",
      "Germany - GPE\n"
     ]
    },
    {
     "data": {
      "text/html": [
       "<span class=\"tex2jax_ignore\"><div class=\"entities\" style=\"line-height: 2.5; direction: ltr\">\n",
       "<mark class=\"entity\" style=\"background: #aa9cfc; padding: 0.45em 0.6em; margin: 0 0.25em; line-height: 1; border-radius: 0.35em;\">\n",
       "    Albert Einstein\n",
       "    <span style=\"font-size: 0.8em; font-weight: bold; line-height: 1; border-radius: 0.35em; vertical-align: middle; margin-left: 0.5rem\">PERSON</span>\n",
       "</mark>\n",
       " was a gem of \n",
       "<mark class=\"entity\" style=\"background: #feca74; padding: 0.45em 0.6em; margin: 0 0.25em; line-height: 1; border-radius: 0.35em;\">\n",
       "    Germany\n",
       "    <span style=\"font-size: 0.8em; font-weight: bold; line-height: 1; border-radius: 0.35em; vertical-align: middle; margin-left: 0.5rem\">GPE</span>\n",
       "</mark>\n",
       "</div></span>"
      ],
      "text/plain": [
       "<IPython.core.display.HTML object>"
      ]
     },
     "metadata": {},
     "output_type": "display_data"
    }
   ],
   "source": [
    "\n",
    "import spacy\n",
    "from spacy import displacy\n",
    "\n",
    "# Load spaCy model\n",
    "nlp = spacy.load(\"en_core_web_sm\")\n",
    "\n",
    "# Named Entity Recognition example\n",
    "ner_text = \"Albert Einstein was a gem of Germany\"\n",
    "ner_doc = nlp(ner_text)\n",
    "\n",
    "# Extract entities using doc.ents\n",
    "for entity in ner_doc.ents:\n",
    "    print(entity.text)\n",
    "    print(entity.label_)\n",
    "    print(spacy.explain(entity.label_))\n",
    "\n",
    "\"\"\"\n",
    "    Albert Einstein\n",
    "    PERSON\n",
    "    People, including fictional\n",
    "\n",
    "    Germany\n",
    "    GPE\n",
    "    Countries, cities, states\n",
    "\"\"\"\n",
    "\n",
    "# Alternative: Extract using Token class\n",
    "for token in ner_doc:\n",
    "    print(token.text, end = \" - \")\n",
    "    print(token.ent_type_)\n",
    "\"\"\"\n",
    "Albert - PERSON\n",
    "Einstein - PERSON\n",
    "was - \n",
    "a - \n",
    "gem - \n",
    "of - \n",
    "Germany - GPE\n",
    "\"\"\"\n",
    "\n",
    "# Visualization (for interactive environments)\n",
    "displacy.render(ner_doc, style=\"ent\")\n"
   ]
  }
 ],
 "metadata": {
  "kernelspec": {
   "display_name": "Python 3",
   "language": "python",
   "name": "python3"
  },
  "language_info": {
   "codemirror_mode": {
    "name": "ipython",
    "version": 3
   },
   "file_extension": ".py",
   "mimetype": "text/x-python",
   "name": "python",
   "nbconvert_exporter": "python",
   "pygments_lexer": "ipython3",
   "version": "3.10.11"
  }
 },
 "nbformat": 4,
 "nbformat_minor": 5
}
