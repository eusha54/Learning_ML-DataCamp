{
 "cells": [
  {
   "cell_type": "code",
   "execution_count": null,
   "id": "5c180b5e",
   "metadata": {},
   "outputs": [
    {
     "name": "stdout",
     "output_type": "stream",
     "text": [
      "Text 1 POS: [('I', 'PRON', 'pronoun'), ('watch', 'VERB', 'verb'), ('TV', 'NOUN', 'noun')]\n",
      "Text 2 POS: [('My', 'PRON', 'pronoun'), ('watch', 'NOUN', 'noun'), ('lost', 'VERB', 'verb')]\n"
     ]
    }
   ],
   "source": [
    "import spacy\n",
    "from spacy import displacy\n",
    "\n",
    "# Load spaCy model\n",
    "nlp = spacy.load(\"en_core_web_sm\")\n",
    "    # loading the smallest english model from spacy\n",
    "    # requires run the following in bash\n",
    "    # python -m spacy download en_core_web_sm\n",
    "\n",
    "\n",
    "# POS Tagging example\n",
    "text1 = \"I watch TV\"\n",
    "text2 = \"My watch lost\"\n",
    "\n",
    "doc1 = nlp(text1)\n",
    "doc2 = nlp(text2)\n",
    "\n",
    "# Extract POS tags with explanations\n",
    "pos_info1 = [(token.text, token.pos_, spacy.explain(token.pos_)) for token in doc1]\n",
    "pos_info2 = [(token.text, token.pos_, spacy.explain(token.pos_)) for token in doc2]\n",
    "    # Text 1 POS: [('I', 'PRON', 'pronoun'), ('watch', 'VERB', 'verb'), ('TV', 'NOUN', 'noun')]\n",
    "    # Text 2 POS: [('My', 'PRON', 'pronoun'), ('watch', 'NOUN', 'noun'), ('lost', 'VERB', 'verb')]\n",
    "\n",
    "# Shows \"watch\" as VERB in first sentence, NOUN in second"
   ]
  },
  {
   "cell_type": "code",
   "execution_count": null,
   "id": "be8d8412",
   "metadata": {},
   "outputs": [
    {
     "name": "stdout",
     "output_type": "stream",
     "text": [
      "Albert Einstein\n",
      "PERSON\n",
      "People, including fictional\n",
      "Germany\n",
      "GPE\n",
      "Countries, cities, states\n",
      "Albert - PERSON\n",
      "Einstein - PERSON\n",
      "was - \n",
      "a - \n",
      "gem - \n",
      "of - \n",
      "Germany - GPE\n"
     ]
    },
    {
     "data": {
      "text/html": [
       "<span class=\"tex2jax_ignore\"><div class=\"entities\" style=\"line-height: 2.5; direction: ltr\">\n",
       "<mark class=\"entity\" style=\"background: #aa9cfc; padding: 0.45em 0.6em; margin: 0 0.25em; line-height: 1; border-radius: 0.35em;\">\n",
       "    Albert Einstein\n",
       "    <span style=\"font-size: 0.8em; font-weight: bold; line-height: 1; border-radius: 0.35em; vertical-align: middle; margin-left: 0.5rem\">PERSON</span>\n",
       "</mark>\n",
       " was a gem of \n",
       "<mark class=\"entity\" style=\"background: #feca74; padding: 0.45em 0.6em; margin: 0 0.25em; line-height: 1; border-radius: 0.35em;\">\n",
       "    Germany\n",
       "    <span style=\"font-size: 0.8em; font-weight: bold; line-height: 1; border-radius: 0.35em; vertical-align: middle; margin-left: 0.5rem\">GPE</span>\n",
       "</mark>\n",
       "</div></span>"
      ],
      "text/plain": [
       "<IPython.core.display.HTML object>"
      ]
     },
     "metadata": {},
     "output_type": "display_data"
    }
   ],
   "source": [
    "\n",
    "import spacy\n",
    "from spacy import displacy\n",
    "\n",
    "# Load spaCy model\n",
    "nlp = spacy.load(\"en_core_web_sm\")\n",
    "\n",
    "# Named Entity Recognition example\n",
    "ner_text = \"Albert Einstein was a gem of Germany\"\n",
    "ner_doc = nlp(ner_text)\n",
    "\n",
    "# Extract entities using doc.ents\n",
    "for entity in ner_doc.ents:\n",
    "    print(entity.text)\n",
    "    print(entity.label_)\n",
    "    print(spacy.explain(entity.label_))\n",
    "\n",
    "\"\"\"\n",
    "    Albert Einstein\n",
    "    PERSON\n",
    "    People, including fictional\n",
    "\n",
    "    Germany\n",
    "    GPE\n",
    "    Countries, cities, states\n",
    "\"\"\"\n",
    "\n",
    "# Alternative: Extract using Token class\n",
    "for token in ner_doc:\n",
    "    print(token.text, end = \" - \")\n",
    "    print(token.ent_type_)\n",
    "\"\"\"\n",
    "Albert - PERSON\n",
    "Einstein - PERSON\n",
    "was - \n",
    "a - \n",
    "gem - \n",
    "of - \n",
    "Germany - GPE\n",
    "\"\"\"\n",
    "\n",
    "# Visualization (for interactive environments)\n",
    "displacy.render(ner_doc, style=\"ent\")\n"
   ]
  },
  {
   "cell_type": "markdown",
   "id": "e923e859",
   "metadata": {},
   "source": [
    "## Advanced Linguistic feature"
   ]
  },
  {
   "cell_type": "code",
   "execution_count": 7,
   "id": "f942f309",
   "metadata": {},
   "outputs": [
    {
     "name": "stdout",
     "output_type": "stream",
     "text": [
      "[('We', 'nsubj', 'nominal subject'), ('understand', 'ROOT', 'root'), ('the', 'det', 'determiner'), ('differences', 'dobj', 'direct object'), ('.', 'punct', 'punctuation')]\n"
     ]
    },
    {
     "data": {
      "text/html": [
       "<span class=\"tex2jax_ignore\"><svg xmlns=\"http://www.w3.org/2000/svg\" xmlns:xlink=\"http://www.w3.org/1999/xlink\" xml:lang=\"en\" id=\"248ba09df6ab4022ba4e86a211c3bed8-0\" class=\"displacy\" width=\"750\" height=\"312.0\" direction=\"ltr\" style=\"max-width: none; height: 312.0px; color: #000000; background: #ffffff; font-family: Arial; direction: ltr\">\n",
       "<text class=\"displacy-token\" fill=\"currentColor\" text-anchor=\"middle\" y=\"222.0\">\n",
       "    <tspan class=\"displacy-word\" fill=\"currentColor\" x=\"50\">We</tspan>\n",
       "    <tspan class=\"displacy-tag\" dy=\"2em\" fill=\"currentColor\" x=\"50\">PRON</tspan>\n",
       "</text>\n",
       "\n",
       "<text class=\"displacy-token\" fill=\"currentColor\" text-anchor=\"middle\" y=\"222.0\">\n",
       "    <tspan class=\"displacy-word\" fill=\"currentColor\" x=\"225\">understand</tspan>\n",
       "    <tspan class=\"displacy-tag\" dy=\"2em\" fill=\"currentColor\" x=\"225\">VERB</tspan>\n",
       "</text>\n",
       "\n",
       "<text class=\"displacy-token\" fill=\"currentColor\" text-anchor=\"middle\" y=\"222.0\">\n",
       "    <tspan class=\"displacy-word\" fill=\"currentColor\" x=\"400\">the</tspan>\n",
       "    <tspan class=\"displacy-tag\" dy=\"2em\" fill=\"currentColor\" x=\"400\">DET</tspan>\n",
       "</text>\n",
       "\n",
       "<text class=\"displacy-token\" fill=\"currentColor\" text-anchor=\"middle\" y=\"222.0\">\n",
       "    <tspan class=\"displacy-word\" fill=\"currentColor\" x=\"575\">differences.</tspan>\n",
       "    <tspan class=\"displacy-tag\" dy=\"2em\" fill=\"currentColor\" x=\"575\">NOUN</tspan>\n",
       "</text>\n",
       "\n",
       "<g class=\"displacy-arrow\">\n",
       "    <path class=\"displacy-arc\" id=\"arrow-248ba09df6ab4022ba4e86a211c3bed8-0-0\" stroke-width=\"2px\" d=\"M70,177.0 C70,89.5 220.0,89.5 220.0,177.0\" fill=\"none\" stroke=\"currentColor\"/>\n",
       "    <text dy=\"1.25em\" style=\"font-size: 0.8em; letter-spacing: 1px\">\n",
       "        <textPath xlink:href=\"#arrow-248ba09df6ab4022ba4e86a211c3bed8-0-0\" class=\"displacy-label\" startOffset=\"50%\" side=\"left\" fill=\"currentColor\" text-anchor=\"middle\">nsubj</textPath>\n",
       "    </text>\n",
       "    <path class=\"displacy-arrowhead\" d=\"M70,179.0 L62,167.0 78,167.0\" fill=\"currentColor\"/>\n",
       "</g>\n",
       "\n",
       "<g class=\"displacy-arrow\">\n",
       "    <path class=\"displacy-arc\" id=\"arrow-248ba09df6ab4022ba4e86a211c3bed8-0-1\" stroke-width=\"2px\" d=\"M420,177.0 C420,89.5 570.0,89.5 570.0,177.0\" fill=\"none\" stroke=\"currentColor\"/>\n",
       "    <text dy=\"1.25em\" style=\"font-size: 0.8em; letter-spacing: 1px\">\n",
       "        <textPath xlink:href=\"#arrow-248ba09df6ab4022ba4e86a211c3bed8-0-1\" class=\"displacy-label\" startOffset=\"50%\" side=\"left\" fill=\"currentColor\" text-anchor=\"middle\">det</textPath>\n",
       "    </text>\n",
       "    <path class=\"displacy-arrowhead\" d=\"M420,179.0 L412,167.0 428,167.0\" fill=\"currentColor\"/>\n",
       "</g>\n",
       "\n",
       "<g class=\"displacy-arrow\">\n",
       "    <path class=\"displacy-arc\" id=\"arrow-248ba09df6ab4022ba4e86a211c3bed8-0-2\" stroke-width=\"2px\" d=\"M245,177.0 C245,2.0 575.0,2.0 575.0,177.0\" fill=\"none\" stroke=\"currentColor\"/>\n",
       "    <text dy=\"1.25em\" style=\"font-size: 0.8em; letter-spacing: 1px\">\n",
       "        <textPath xlink:href=\"#arrow-248ba09df6ab4022ba4e86a211c3bed8-0-2\" class=\"displacy-label\" startOffset=\"50%\" side=\"left\" fill=\"currentColor\" text-anchor=\"middle\">dobj</textPath>\n",
       "    </text>\n",
       "    <path class=\"displacy-arrowhead\" d=\"M575.0,179.0 L583.0,167.0 567.0,167.0\" fill=\"currentColor\"/>\n",
       "</g>\n",
       "</svg></span>"
      ],
      "text/plain": [
       "<IPython.core.display.HTML object>"
      ]
     },
     "metadata": {},
     "output_type": "display_data"
    }
   ],
   "source": [
    "import spacy\n",
    "from spacy import displacy\n",
    "\n",
    "# Load spaCy model\n",
    "nlp = spacy.load(\"en_core_web_sm\")\n",
    "\n",
    "# Dependency parsing example\n",
    "text = \"We understand the differences.\"\n",
    "doc = nlp(text)\n",
    "\n",
    "# Extract dependency information\n",
    "dep_info = [(token.text, token.dep_, spacy.explain(token.dep_)) for token in doc]\n",
    "print(dep_info)\n",
    "    # [('We', 'nsubj', 'nominal subject'), ('understand', 'ROOT', 'root'), ('the', 'det', 'determiner'), ('differences', 'dobj', 'direct object'), ('.', 'punct', 'punctuation')]\n",
    "\n",
    "# Visualization (for interactive environments)\n",
    "displacy.render(doc, style=\"dep\")  # Shows dependency tree\n"
   ]
  }
 ],
 "metadata": {
  "kernelspec": {
   "display_name": "Python 3",
   "language": "python",
   "name": "python3"
  },
  "language_info": {
   "codemirror_mode": {
    "name": "ipython",
    "version": 3
   },
   "file_extension": ".py",
   "mimetype": "text/x-python",
   "name": "python",
   "nbconvert_exporter": "python",
   "pygments_lexer": "ipython3",
   "version": "3.10.11"
  }
 },
 "nbformat": 4,
 "nbformat_minor": 5
}
